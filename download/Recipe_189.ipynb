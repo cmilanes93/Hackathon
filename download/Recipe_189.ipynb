{
 "cells": [
  {
   "cell_type": "markdown",
   "metadata": {},
   "source": [
    "# DataSource Card <br>\n",
    " Import Data "
   ]
  },
  {
   "cell_type": "code",
   "execution_count": 1,
   "metadata": {},
   "outputs": [],
   "source": [
    "import numpy as np\n",
    "import pandas as pd \n",
    "import matplotlib.pyplot as plt\n",
    "import seaborn as sns"
   ]
  },
  {
   "cell_type": "markdown",
   "metadata": {},
   "source": [
    " Fetch Train Data "
   ]
  },
  {
   "cell_type": "code",
   "execution_count": 2,
   "metadata": {},
   "outputs": [],
   "source": [
    "df_train = pd.read_csv('train.csv') "
   ]
  },
  {
   "cell_type": "markdown",
   "metadata": {},
   "source": [
    " Fetch Test Data "
   ]
  },
  {
   "cell_type": "code",
   "execution_count": 3,
   "metadata": {},
   "outputs": [],
   "source": [
    "df_test = pd.read_csv('test.csv') "
   ]
  },
  {
   "cell_type": "markdown",
   "metadata": {},
   "source": [
    "# DataCleanse Card "
   ]
  },
  {
   "cell_type": "code",
   "execution_count": null,
   "metadata": {},
   "outputs": [],
   "source": [
    "from sklearn.model_selection import train_test_split"
   ]
  },
  {
   "cell_type": "code",
   "execution_count": null,
   "metadata": {},
   "outputs": [],
   "source": [
    "test_split = 0.19999999999999996"
   ]
  },
  {
   "cell_type": "markdown",
   "metadata": {},
   "source": [
    " Column Types "
   ]
  },
  {
   "cell_type": "code",
   "execution_count": null,
   "metadata": {},
   "outputs": [],
   "source": [
    "from AIStudioModules.dataSummary.columnType import identifyColumnType\n",
    "column_type_map = identifyColumnType(df_train)\n",
    "column_type_list = list(column_type_map.values())\n",
    "column_type_freq = {i:column_type_list.count(i) for i in set(column_type_map.values())}\n",
    "plt.figure(figsize=(10,5))\n",
    "plt.title('Column Types')\n",
    "plt.pie(list(column_type_freq.values()), labels = list(column_type_freq.keys()))\n",
    "plt.show()"
   ]
  },
  {
   "cell_type": "markdown",
   "metadata": {},
   "source": [
    " Column Distribution "
   ]
  },
  {
   "cell_type": "code",
   "execution_count": null,
   "metadata": {},
   "outputs": [],
   "source": [
    "from AIStudioModules.dataSummary.columnSummary import columnValuesDistribution\n",
    "columnValuesDistribution(<Enter a pandas.Series>)"
   ]
  },
  {
   "cell_type": "markdown",
   "metadata": {},
   "source": [
    " Drop Columns"
   ]
  },
  {
   "cell_type": "code",
   "execution_count": null,
   "metadata": {},
   "outputs": [],
   "source": [
    "drop_816 = ['Elevador'] \n",
    "df_train = df_train.drop(drop_816, axis=1)\n",
    "df_test = df_test.drop(drop_816, axis=1)"
   ]
  },
  {
   "cell_type": "markdown",
   "metadata": {},
   "source": [
    " Drop Columns"
   ]
  },
  {
   "cell_type": "code",
   "execution_count": null,
   "metadata": {},
   "outputs": [],
   "source": [
    "drop_818 = ['Número de frentes'] \n",
    "df_train = df_train.drop(drop_818, axis=1)\n",
    "df_test = df_test.drop(drop_818, axis=1)"
   ]
  },
  {
   "cell_type": "markdown",
   "metadata": {},
   "source": [
    " Drop Columns Based on their correlations "
   ]
  },
  {
   "cell_type": "code",
   "execution_count": null,
   "metadata": {},
   "outputs": [],
   "source": [
    "corr_drop_822 = ['Latitud (Decimal)', 'Longitud (Decimal)'] \n",
    "df_train = df_train.drop(corr_drop_822, axis=1)\n",
    "df_test = df_test.drop(corr_drop_822, axis=1)"
   ]
  },
  {
   "cell_type": "markdown",
   "metadata": {},
   "source": [
    " Drop Columns"
   ]
  },
  {
   "cell_type": "code",
   "execution_count": null,
   "metadata": {},
   "outputs": [],
   "source": [
    "drop_823 = ['Fecha entrega del Informe', 'Piso', 'Provincia', 'Distrito', 'Posición'] \n",
    "df_train = df_train.drop(drop_823, axis=1)\n",
    "df_test = df_test.drop(drop_823, axis=1)"
   ]
  },
  {
   "cell_type": "markdown",
   "metadata": {},
   "source": [
    " Correlation HeatMap"
   ]
  },
  {
   "cell_type": "code",
   "execution_count": null,
   "metadata": {},
   "outputs": [],
   "source": [
    "from AIStudioModules.correlation import plot_correlation_matrix\n",
    "corr_data = plot_correlation_matrix(df_train)\n",
    "#plt.figure(figsize=(12,6))\n",
    "sns.heatmap(pd.DataFrame(corr_data, index=list(corr_data.keys())))\n",
    "plt.show()"
   ]
  },
  {
   "cell_type": "markdown",
   "metadata": {},
   "source": [
    " Select Target and split data"
   ]
  },
  {
   "cell_type": "code",
   "execution_count": null,
   "metadata": {},
   "outputs": [],
   "source": [
    "target = 'Valor comercial (USD)'\n",
    "isnull_train_target = df_train[target].isnull().sum(axis=0)\n",
    "isnull_test_target = df_test[target].isnull().sum(axis=0)\n",
    "if isnull_train_target:\n",
    "\traise Exception('Target column in  the train set, is empty')\n",
    "if isnull_test_target:\n",
    "\traise Exception('Target column in  the test set, is empty')"
   ]
  },
  {
   "cell_type": "code",
   "execution_count": null,
   "metadata": {},
   "outputs": [],
   "source": [
    "x_train = df_train.drop(target, axis=1)\n",
    "y_train = df_train[target]\n",
    "x_test = df_test.drop(target, axis=1)\n",
    "y_test = df_test[target]"
   ]
  },
  {
   "cell_type": "markdown",
   "metadata": {},
   "source": [
    " Imputation if missing values still exist"
   ]
  },
  {
   "cell_type": "code",
   "execution_count": null,
   "metadata": {},
   "outputs": [],
   "source": [
    "dataset = pd.concat(objs=[x_train, x_test], axis=0)\n",
    "for col in dataset.columns[dataset.isnull().any()]:\n",
    "\tdataset[col] = dataset[col].fillna(dataset[col].value_counts().index[0])\n",
    "x_train, x_test = train_test_split(dataset, test_size=test_split,shuffle=False)"
   ]
  },
  {
   "cell_type": "markdown",
   "metadata": {},
   "source": [
    " Dummy"
   ]
  },
  {
   "cell_type": "code",
   "execution_count": null,
   "metadata": {},
   "outputs": [],
   "source": [
    "from AIStudioModules.dataSummary.columnType import identifyColumnType\n",
    "dataset = pd.concat(objs=[x_train, x_test], axis=0)\n",
    "dataset_column_type_map=identifyColumnType(dataset)\n",
    "categorical_columns=[col_name for col_name, col_type in dataset_column_type_map.items() if col_type=='categorical']\n",
    "dataset = pd.get_dummies(dataset, columns=categorical_columns, drop_first=True)\n",
    "X_train, X_test = train_test_split(dataset, test_size=test_split, shuffle=False)"
   ]
  },
  {
   "cell_type": "markdown",
   "metadata": {},
   "source": [
    " Train and Test Data with AutoML"
   ]
  },
  {
   "cell_type": "markdown",
   "metadata": {},
   "source": [
    "https://auto.gluon.ai/stable/install.html "
   ]
  },
  {
   "cell_type": "code",
   "execution_count": null,
   "metadata": {},
   "outputs": [],
   "source": [
    "import autogluon as ag\n",
    "from autogluon import TabularPrediction as task\n",
    "from sklearn.model_selection import train_test_split"
   ]
  },
  {
   "cell_type": "code",
   "execution_count": null,
   "metadata": {},
   "outputs": [],
   "source": [
    "x_train_auto = task.Dataset(X_train)\n",
    "X_train, X_val, y_train, y_val = train_test_split(X_train, y_train, test_size=0.2)\n",
    "X_train[target] = y_train\n",
    "X_val[target] = y_val\n",
    "output_dir = <Enter path of the model to be saved>\n",
    "predictor = task.fit(train_data=X_train, tuning_data=X_val, label=target, problem_type ='regression', output_directory=output_dir, excluded_model_types=['GBM', 'custom'], auto_stack=True)"
   ]
  },
  {
   "cell_type": "code",
   "execution_count": null,
   "metadata": {},
   "outputs": [],
   "source": [
    "X_test[target] = y_test\n",
    "leader_board_data = predictor.leaderboard(X_test, silent=True)\n",
    "leader_board_data.head()"
   ]
  },
  {
   "cell_type": "code",
   "execution_count": null,
   "metadata": {},
   "outputs": [],
   "source": [
    "best_model_index = (predictor.get_model_names().index(leader_board_data.iloc[0,0]))\n",
    "best_model = predictor.get_model_names()[best_model_index]"
   ]
  },
  {
   "cell_type": "code",
   "execution_count": null,
   "metadata": {},
   "outputs": [],
   "source": [
    "y_pred = predictor.predict(X_test, model=best_model)"
   ]
  },
  {
   "cell_type": "markdown",
   "metadata": {},
   "source": [
    " Evaluate Model"
   ]
  },
  {
   "cell_type": "code",
   "execution_count": null,
   "metadata": {},
   "outputs": [],
   "source": [
    "import sklearn.metrics as metrics\n",
    "import math\n",
    "r2_score=metrics.r2_score(y_test, y_pred)\n",
    "mae=metrics.mean_absolute_error(y_test, y_pred)\n",
    "mse=metrics.mean_squared_error(y_test, y_pred)\n",
    "rmse = math.sqrt(mse)\n",
    "print(f'Mean Absolute Error = {mae}')\n",
    "print(f'Mean Squared Error = {mse}')\n",
    "print(f'Root Mean Squared Error = {rmse}')"
   ]
  },
  {
   "cell_type": "markdown",
   "metadata": {},
   "source": [
    " Save Expainer"
   ]
  },
  {
   "cell_type": "code",
   "execution_count": null,
   "metadata": {},
   "outputs": [],
   "source": [
    "import lime\n",
    "import lime.lime_tabular\n",
    "import dill\n",
    "categorical_features = np.argwhere(np.array([len(set(X_train.values[:,x])) for x in range(X_train.values.shape[1])]) <= 10).flatten()\n",
    "explainer = lime.lime_tabular.LimeTabularExplainer(\n",
    "\tX_train.values,\n",
    "\tfeature_names=X_train.columns.values.tolist(),\n",
    "\tclass_names=[target],\n",
    "\tcategorical_features=categorical_features,\n",
    "\tverbose=False,  mode='regression'\n",
    ")\n",
    "with open('<path to save the explainer>', 'wb') as f:\n",
    "\tdill.dump(explainer, f)"
   ]
  },
  {
   "cell_type": "markdown",
   "metadata": {},
   "source": [
    "Explainer Test"
   ]
  },
  {
   "cell_type": "code",
   "execution_count": null,
   "metadata": {},
   "outputs": [],
   "source": [
    "def predict_fn_reg(x):\n",
    "\tdf = pd.DataFrame(x, columns=X_train.columns)\n",
    "\treturn predictor.predict(df, model=best_model).astype(float)\n",
    "exp = explainer.explain_instance(X_test.values[0].astype(float), predict_fn_reg)\n",
    "exp.show_in_notebook(show_table=True)"
   ]
  }
 ],
 "metadata": {
  "kernelspec": {
   "display_name": "Python 3 (ipykernel)",
   "language": "python",
   "name": "python3"
  },
  "language_info": {
   "codemirror_mode": {
    "name": "ipython",
    "version": 3
   },
   "file_extension": ".py",
   "mimetype": "text/x-python",
   "name": "python",
   "nbconvert_exporter": "python",
   "pygments_lexer": "ipython3",
   "version": "3.9.7"
  }
 },
 "nbformat": 4,
 "nbformat_minor": 2
}
